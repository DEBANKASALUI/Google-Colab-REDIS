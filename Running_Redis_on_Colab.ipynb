{
  "nbformat": 4,
  "nbformat_minor": 0,
  "metadata": {
    "colab": {
      "provenance": [],
      "include_colab_link": true
    },
    "kernelspec": {
      "name": "python3",
      "display_name": "Python 3"
    },
    "language_info": {
      "name": "python"
    }
  },
  "cells": [
    {
      "cell_type": "markdown",
      "metadata": {
        "id": "view-in-github",
        "colab_type": "text"
      },
      "source": [
        "<a href=\"https://colab.research.google.com/github/DEBANKASALUI/Google-Colab-REDIS/blob/main/Running_Redis_on_Colab.ipynb\" target=\"_parent\"><img src=\"https://colab.research.google.com/assets/colab-badge.svg\" alt=\"Open In Colab\"/></a>"
      ]
    },
    {
      "cell_type": "markdown",
      "source": [
        "Install Redis and Redis python client:\n",
        "\n"
      ],
      "metadata": {
        "id": "Cc4rtPW3x3lp"
      }
    },
    {
      "cell_type": "code",
      "execution_count": 2,
      "metadata": {
        "id": "9hR-YodOenoM",
        "colab": {
          "base_uri": "https://localhost:8080/"
        },
        "outputId": "53a4016b-b452-438f-df51-2270250fbf85"
      },
      "outputs": [
        {
          "output_type": "stream",
          "name": "stdout",
          "text": [
            "Collecting redis\n",
            "  Using cached redis-6.2.0-py3-none-any.whl.metadata (10 kB)\n",
            "\u001b[31mERROR: Could not find a version that satisfies the requirement redis-server (from versions: none)\u001b[0m\u001b[31m\n",
            "\u001b[0m\u001b[31mERROR: No matching distribution found for redis-server\u001b[0m\u001b[31m\n",
            "\u001b[0m"
          ]
        }
      ],
      "source": [
        "%pip install redis redis-server"
      ]
    },
    {
      "cell_type": "markdown",
      "source": [
        "Start Redis Server"
      ],
      "metadata": {
        "id": "9IzJW3cShFZi"
      }
    },
    {
      "cell_type": "code",
      "source": [
        "import redis_server\n",
        "!$redis_server.REDIS_SERVER_PATH --daemonize yes"
      ],
      "metadata": {
        "id": "-MfrA0Ykepy0"
      },
      "execution_count": null,
      "outputs": []
    },
    {
      "cell_type": "markdown",
      "source": [
        "Check connection to server"
      ],
      "metadata": {
        "id": "4BnwUEVPMJQj"
      }
    },
    {
      "cell_type": "code",
      "source": [
        "import redis\n",
        "client = redis.Redis(host = 'localhost', port=6379)\n",
        "client.ping()"
      ],
      "metadata": {
        "colab": {
          "base_uri": "https://localhost:8080/"
        },
        "id": "CAn5ceOtMIjL",
        "outputId": "4ca0effb-5caf-4821-8e45-872383dea43a"
      },
      "execution_count": null,
      "outputs": [
        {
          "output_type": "execute_result",
          "data": {
            "text/plain": [
              "True"
            ]
          },
          "metadata": {},
          "execution_count": 5
        }
      ]
    },
    {
      "cell_type": "markdown",
      "source": [
        "Using Redis Commands"
      ],
      "metadata": {
        "id": "CLvNCBtwhN8J"
      }
    },
    {
      "cell_type": "code",
      "source": [
        "client.set('foo', 'bar')\n",
        "client.get('foo')"
      ],
      "metadata": {
        "colab": {
          "base_uri": "https://localhost:8080/"
        },
        "id": "Pq2bpLfwerxN",
        "outputId": "bc492047-b698-4b33-e8c0-cd6243affeb9"
      },
      "execution_count": null,
      "outputs": [
        {
          "output_type": "execute_result",
          "data": {
            "text/plain": [
              "b'bar'"
            ]
          },
          "metadata": {},
          "execution_count": 6
        }
      ]
    }
  ]
}