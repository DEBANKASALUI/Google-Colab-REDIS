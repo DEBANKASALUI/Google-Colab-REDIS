{
  "nbformat": 4,
  "nbformat_minor": 0,
  "metadata": {
    "colab": {
      "provenance": [],
      "authorship_tag": "ABX9TyNCb3zh53kt/6IAV0webqBH",
      "include_colab_link": true
    },
    "kernelspec": {
      "name": "python3",
      "display_name": "Python 3"
    },
    "language_info": {
      "name": "python"
    }
  },
  "cells": [
    {
      "cell_type": "markdown",
      "metadata": {
        "id": "view-in-github",
        "colab_type": "text"
      },
      "source": [
        "<a href=\"https://colab.research.google.com/github/DEBANKASALUI/Google-Colab-REDIS/blob/main/REDIS_Install_and_DataStructures.ipynb\" target=\"_parent\"><img src=\"https://colab.research.google.com/assets/colab-badge.svg\" alt=\"Open In Colab\"/></a>"
      ]
    },
    {
      "cell_type": "markdown",
      "source": [
        "REDIS: Install Redis and Redis python client"
      ],
      "metadata": {
        "id": "4BJJeZweh6g0"
      }
    },
    {
      "cell_type": "code",
      "execution_count": 2,
      "metadata": {
        "colab": {
          "base_uri": "https://localhost:8080/"
        },
        "id": "rDmu8MGvgwZ9",
        "outputId": "57845011-739b-4894-dbe2-30daa1cbf999"
      },
      "outputs": [
        {
          "output_type": "stream",
          "name": "stdout",
          "text": [
            "Requirement already satisfied: redis in /usr/local/lib/python3.11/dist-packages (6.2.0)\n",
            "Hit:1 https://cloud.r-project.org/bin/linux/ubuntu jammy-cran40/ InRelease\n",
            "Hit:2 https://developer.download.nvidia.com/compute/cuda/repos/ubuntu2204/x86_64  InRelease\n",
            "Hit:3 http://security.ubuntu.com/ubuntu jammy-security InRelease\n",
            "Hit:4 https://r2u.stat.illinois.edu/ubuntu jammy InRelease\n",
            "Hit:5 http://archive.ubuntu.com/ubuntu jammy InRelease\n",
            "Hit:6 http://archive.ubuntu.com/ubuntu jammy-updates InRelease\n",
            "Hit:7 http://archive.ubuntu.com/ubuntu jammy-backports InRelease\n",
            "Hit:8 https://ppa.launchpadcontent.net/deadsnakes/ppa/ubuntu jammy InRelease\n",
            "Hit:9 https://ppa.launchpadcontent.net/graphics-drivers/ppa/ubuntu jammy InRelease\n",
            "Hit:10 https://ppa.launchpadcontent.net/ubuntugis/ppa/ubuntu jammy InRelease\n",
            "Reading package lists... Done\n",
            "W: Skipping acquire of configured file 'main/source/Sources' as repository 'https://r2u.stat.illinois.edu/ubuntu jammy InRelease' does not seem to provide it (sources.list entry misspelt?)\n",
            "Reading package lists... Done\n",
            "Building dependency tree... Done\n",
            "Reading state information... Done\n",
            "redis-server is already the newest version (5:6.0.16-1ubuntu1).\n",
            "0 upgraded, 0 newly installed, 0 to remove and 37 not upgraded.\n"
          ]
        },
        {
          "output_type": "execute_result",
          "data": {
            "text/plain": [
              "b'bar'"
            ]
          },
          "metadata": {},
          "execution_count": 2
        }
      ],
      "source": [
        "%pip install redis\n",
        "!redis-server --daemonize yes\n",
        "!sudo apt-get update\n",
        "!sudo apt-get install redis-server -y\n",
        "\n",
        "import redis\n",
        "\n",
        "client = redis.Redis(host='localhost', port=6379)\n",
        "\n",
        "client.ping()\n",
        "\n",
        "client.set('foo','bar')\n",
        "client.get('foo')"
      ]
    },
    {
      "cell_type": "markdown",
      "source": [
        "REDIS DATA STRUCTURE: SET"
      ],
      "metadata": {
        "id": "NYXGnbtkhXXd"
      }
    },
    {
      "cell_type": "code",
      "source": [
        "client.sadd('cities','Bombay')\n",
        "client.sadd('cities','Kharagpur')\n",
        "client.sadd('cities','Bangalore')\n",
        "client.sadd('cities','Bombay')\n",
        "client.smembers('cities')"
      ],
      "metadata": {
        "colab": {
          "base_uri": "https://localhost:8080/"
        },
        "id": "NRx6PjNUhI1w",
        "outputId": "14be80b2-55ad-4b28-b730-5da5f74f2d1a"
      },
      "execution_count": 3,
      "outputs": [
        {
          "output_type": "execute_result",
          "data": {
            "text/plain": [
              "{b'Bangalore', b'Bombay', b'Kharagpur'}"
            ]
          },
          "metadata": {},
          "execution_count": 3
        }
      ]
    },
    {
      "cell_type": "markdown",
      "source": [
        "REDIS DATA STRUCTURE: LIST"
      ],
      "metadata": {
        "id": "zYPwi2NNhnl-"
      }
    },
    {
      "cell_type": "code",
      "source": [
        "client.lpush('My books','Harry Potter')\n",
        "client.lpush('My books','Angels and Demons')\n",
        "client.lpush('My books','Kite runner')\n",
        "client.lrange('My books',0,3)"
      ],
      "metadata": {
        "colab": {
          "base_uri": "https://localhost:8080/"
        },
        "id": "5WdbW19ahODu",
        "outputId": "a8c32c65-6ff2-4a73-b385-cb8b104f561c"
      },
      "execution_count": 4,
      "outputs": [
        {
          "output_type": "execute_result",
          "data": {
            "text/plain": [
              "[b'Kite runner', b'Angels and Demons', b'Harry Potter']"
            ]
          },
          "metadata": {},
          "execution_count": 4
        }
      ]
    },
    {
      "cell_type": "markdown",
      "source": [
        "REDIS DATA STRUCTURE: STRING"
      ],
      "metadata": {
        "id": "zf9WlVeRhwNC"
      }
    },
    {
      "cell_type": "code",
      "source": [
        "client.set('string','iphone')\n",
        "\n",
        "client.getrange('string',1,3)"
      ],
      "metadata": {
        "colab": {
          "base_uri": "https://localhost:8080/"
        },
        "id": "BCz3nZ99hTKu",
        "outputId": "a9abf5e8-2c99-4d35-ea57-0c4f82013522"
      },
      "execution_count": 5,
      "outputs": [
        {
          "output_type": "execute_result",
          "data": {
            "text/plain": [
              "b'pho'"
            ]
          },
          "metadata": {},
          "execution_count": 5
        }
      ]
    },
    {
      "cell_type": "code",
      "source": [
        "client.append('string',' pro max')\n",
        "\n",
        "client.get('string')"
      ],
      "metadata": {
        "colab": {
          "base_uri": "https://localhost:8080/"
        },
        "id": "lc9q3_rBh0uV",
        "outputId": "a505db33-54b2-46b7-996a-5d1e335a9d8a"
      },
      "execution_count": 6,
      "outputs": [
        {
          "output_type": "execute_result",
          "data": {
            "text/plain": [
              "b'iphone pro max'"
            ]
          },
          "metadata": {},
          "execution_count": 6
        }
      ]
    }
  ]
}